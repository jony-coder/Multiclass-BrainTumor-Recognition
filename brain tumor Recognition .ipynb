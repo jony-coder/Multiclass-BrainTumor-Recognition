{
 "cells": [
  {
   "cell_type": "code",
   "execution_count": 2,
   "id": "0d8502b2",
   "metadata": {},
   "outputs": [],
   "source": [
    "import numpy as np \n",
    "import pandas as pd \n",
    "import matplotlib.pyplot as plt\n",
    "import cv2\n",
    "import tensorflow as tf\n",
    "from PIL import Image\n",
    "import os\n",
    "os.chdir('C:/Users/Jony/Multiclass BRATS/')\n",
    "from sklearn.model_selection import train_test_split\n",
    "from tensorflow.keras.utils import to_categorical\n",
    "from keras.models import Sequential, load_model\n",
    "from keras.layers import Conv2D, MaxPool2D, Dense, Flatten, Dropout"
   ]
  },
  {
   "cell_type": "code",
   "execution_count": 3,
   "id": "ad8b2dee",
   "metadata": {},
   "outputs": [],
   "source": [
    "data = []\n",
    "labels = []\n",
    "# We have 4 Classes\n",
    "classes = 4\n",
    "cur_path = os.getcwd()"
   ]
  },
  {
   "cell_type": "code",
   "execution_count": 4,
   "id": "e4bc89a9",
   "metadata": {},
   "outputs": [
    {
     "data": {
      "text/plain": [
       "'C:\\\\Users\\\\Jony\\\\Multiclass BRATS'"
      ]
     },
     "execution_count": 4,
     "metadata": {},
     "output_type": "execute_result"
    }
   ],
   "source": [
    "cur_path"
   ]
  },
  {
   "cell_type": "code",
   "execution_count": 8,
   "id": "98a73c93",
   "metadata": {},
   "outputs": [],
   "source": [
    "for i in range(classes):\n",
    "    path = os.path.join(cur_path,'train',str(i))\n",
    "    images = os.listdir(path)\n",
    "    for a in images:\n",
    "        try:\n",
    "            image = Image.open(path + '\\\\'+ a)\n",
    "            image = image.resize((30,30))\n",
    "            image = np.array(image)\n",
    "            data.append(image)\n",
    "            labels.append(i)\n",
    "        except Exception as e:\n",
    "            print(e)\n",
    "            \n",
    "#glioma_tumor = 0\n",
    "#meningioma_tumor = 1\n",
    "#no_tumor = 2\n",
    "#pituitary_tumor = 3"
   ]
  },
  {
   "cell_type": "code",
   "execution_count": 10,
   "id": "bd81c607",
   "metadata": {},
   "outputs": [],
   "source": [
    "data = np.array(data)\n",
    "labels = np.array(labels)"
   ]
  },
  {
   "cell_type": "code",
   "execution_count": 11,
   "id": "e80d958b",
   "metadata": {},
   "outputs": [],
   "source": [
    "np.save('./training/data',data)\n",
    "np.save('./training/target',labels)"
   ]
  },
  {
   "cell_type": "code",
   "execution_count": 12,
   "id": "b7491f06",
   "metadata": {},
   "outputs": [],
   "source": [
    "data=np.load('./training/data.npy')\n",
    "labels=np.load('./training/target.npy')"
   ]
  },
  {
   "cell_type": "code",
   "execution_count": 13,
   "id": "4c6bf365",
   "metadata": {},
   "outputs": [
    {
     "name": "stdout",
     "output_type": "stream",
     "text": [
      "(4912, 30, 30, 3) (4912,)\n"
     ]
    }
   ],
   "source": [
    "print(data.shape, labels.shape)"
   ]
  },
  {
   "cell_type": "code",
   "execution_count": 14,
   "id": "ce71acac",
   "metadata": {},
   "outputs": [],
   "source": [
    "X_train, X_test, y_train, y_test = train_test_split(data, labels, test_size=0.2, random_state=0)"
   ]
  },
  {
   "cell_type": "code",
   "execution_count": 15,
   "id": "0dc0988f",
   "metadata": {},
   "outputs": [
    {
     "name": "stdout",
     "output_type": "stream",
     "text": [
      "(3929, 30, 30, 3) (983, 30, 30, 3) (3929,) (983,)\n"
     ]
    }
   ],
   "source": [
    "print(X_train.shape, X_test.shape, y_train.shape, y_test.shape)"
   ]
  },
  {
   "cell_type": "code",
   "execution_count": 16,
   "id": "0ebc498f",
   "metadata": {},
   "outputs": [],
   "source": [
    "y_train = to_categorical(y_train, 4)\n",
    "y_test = to_categorical(y_test, 4)"
   ]
  },
  {
   "cell_type": "code",
   "execution_count": 17,
   "id": "d6735360",
   "metadata": {},
   "outputs": [],
   "source": [
    "model = Sequential()\n",
    "model.add(Conv2D(filters=32, kernel_size=(5,5), activation='relu', input_shape=X_train.shape[1:]))\n",
    "model.add(Conv2D(filters=32, kernel_size=(5,5), activation='relu'))\n",
    "model.add(MaxPool2D(pool_size=(2, 2)))\n",
    "model.add(Dropout(rate=0.25))\n",
    "model.add(Conv2D(filters=64, kernel_size=(3, 3), activation='relu'))\n",
    "model.add(Conv2D(filters=64, kernel_size=(3, 3), activation='relu'))\n",
    "model.add(MaxPool2D(pool_size=(2, 2)))\n",
    "model.add(Dropout(rate=0.25))\n",
    "model.add(Flatten())\n",
    "model.add(Dense(256, activation='relu'))\n",
    "model.add(Dropout(rate=0.5))\n",
    "# We have 4 classes that's why we have defined 4 in the dense\n",
    "model.add(Dense(4, activation='softmax'))"
   ]
  },
  {
   "cell_type": "code",
   "execution_count": 18,
   "id": "4a1f369b",
   "metadata": {},
   "outputs": [],
   "source": [
    "#Compilation of the model\n",
    "model.compile(loss='categorical_crossentropy', optimizer='adam', metrics=['accuracy'])"
   ]
  },
  {
   "cell_type": "code",
   "execution_count": 21,
   "id": "a48dca19",
   "metadata": {},
   "outputs": [
    {
     "name": "stdout",
     "output_type": "stream",
     "text": [
      "Epoch 1/30\n",
      "123/123 [==============================] - 11s 89ms/step - loss: 0.3568 - accuracy: 0.8679 - val_loss: 0.3327 - val_accuracy: 0.8911\n",
      "Epoch 2/30\n",
      "123/123 [==============================] - 11s 90ms/step - loss: 0.3392 - accuracy: 0.8707 - val_loss: 0.2969 - val_accuracy: 0.8973\n",
      "Epoch 3/30\n",
      "123/123 [==============================] - 11s 87ms/step - loss: 0.3468 - accuracy: 0.8666 - val_loss: 0.3306 - val_accuracy: 0.8779\n",
      "Epoch 4/30\n",
      "123/123 [==============================] - 12s 100ms/step - loss: 0.3179 - accuracy: 0.8834 - val_loss: 0.2931 - val_accuracy: 0.9064\n",
      "Epoch 5/30\n",
      "123/123 [==============================] - 11s 93ms/step - loss: 0.2851 - accuracy: 0.9030 - val_loss: 0.2787 - val_accuracy: 0.8952\n",
      "Epoch 6/30\n",
      "123/123 [==============================] - 11s 89ms/step - loss: 0.2794 - accuracy: 0.9033 - val_loss: 0.3292 - val_accuracy: 0.8769\n",
      "Epoch 7/30\n",
      "123/123 [==============================] - 11s 90ms/step - loss: 0.3069 - accuracy: 0.8934 - val_loss: 0.2288 - val_accuracy: 0.9369\n",
      "Epoch 8/30\n",
      "123/123 [==============================] - 12s 95ms/step - loss: 0.2665 - accuracy: 0.9074 - val_loss: 0.2592 - val_accuracy: 0.9125\n",
      "Epoch 9/30\n",
      "123/123 [==============================] - 11s 92ms/step - loss: 0.2648 - accuracy: 0.9012 - val_loss: 0.3225 - val_accuracy: 0.8800\n",
      "Epoch 10/30\n",
      "123/123 [==============================] - 11s 87ms/step - loss: 0.2564 - accuracy: 0.9053 - val_loss: 0.2525 - val_accuracy: 0.9186\n",
      "Epoch 11/30\n",
      "123/123 [==============================] - 11s 91ms/step - loss: 0.2562 - accuracy: 0.9102 - val_loss: 0.3251 - val_accuracy: 0.8840\n",
      "Epoch 12/30\n",
      "123/123 [==============================] - 11s 91ms/step - loss: 0.2456 - accuracy: 0.9109 - val_loss: 0.2431 - val_accuracy: 0.9227\n",
      "Epoch 13/30\n",
      "123/123 [==============================] - 11s 90ms/step - loss: 0.2400 - accuracy: 0.9140 - val_loss: 0.2599 - val_accuracy: 0.9207\n",
      "Epoch 14/30\n",
      "123/123 [==============================] - 12s 94ms/step - loss: 0.2490 - accuracy: 0.9150 - val_loss: 0.2518 - val_accuracy: 0.9196\n",
      "Epoch 15/30\n",
      "123/123 [==============================] - 11s 93ms/step - loss: 0.2441 - accuracy: 0.9145 - val_loss: 0.2336 - val_accuracy: 0.9268\n",
      "Epoch 16/30\n",
      "123/123 [==============================] - 11s 92ms/step - loss: 0.2102 - accuracy: 0.9236 - val_loss: 0.2440 - val_accuracy: 0.9288\n",
      "Epoch 17/30\n",
      "123/123 [==============================] - 11s 93ms/step - loss: 0.2311 - accuracy: 0.9206 - val_loss: 0.2346 - val_accuracy: 0.9308\n",
      "Epoch 18/30\n",
      "123/123 [==============================] - 13s 106ms/step - loss: 0.2108 - accuracy: 0.9203 - val_loss: 0.2379 - val_accuracy: 0.9298\n",
      "Epoch 19/30\n",
      "123/123 [==============================] - 14s 116ms/step - loss: 0.2311 - accuracy: 0.9203 - val_loss: 0.2483 - val_accuracy: 0.9298\n",
      "Epoch 20/30\n",
      "123/123 [==============================] - 13s 105ms/step - loss: 0.1962 - accuracy: 0.9298 - val_loss: 0.2373 - val_accuracy: 0.9237\n",
      "Epoch 21/30\n",
      "123/123 [==============================] - 14s 112ms/step - loss: 0.1929 - accuracy: 0.9282 - val_loss: 0.1959 - val_accuracy: 0.9420\n",
      "Epoch 22/30\n",
      "123/123 [==============================] - 17s 135ms/step - loss: 0.1922 - accuracy: 0.9343 - val_loss: 0.3388 - val_accuracy: 0.8993\n",
      "Epoch 23/30\n",
      "123/123 [==============================] - 15s 119ms/step - loss: 0.1946 - accuracy: 0.9364 - val_loss: 0.2321 - val_accuracy: 0.9400\n",
      "Epoch 24/30\n",
      "123/123 [==============================] - 14s 110ms/step - loss: 0.2136 - accuracy: 0.9234 - val_loss: 0.2513 - val_accuracy: 0.9379\n",
      "Epoch 25/30\n",
      "123/123 [==============================] - 14s 110ms/step - loss: 0.1822 - accuracy: 0.9351 - val_loss: 0.2640 - val_accuracy: 0.9227\n",
      "Epoch 26/30\n",
      "123/123 [==============================] - 13s 105ms/step - loss: 0.1876 - accuracy: 0.9354 - val_loss: 0.2495 - val_accuracy: 0.9339\n",
      "Epoch 27/30\n",
      "123/123 [==============================] - 12s 101ms/step - loss: 0.1913 - accuracy: 0.9318 - val_loss: 0.2339 - val_accuracy: 0.9318\n",
      "Epoch 28/30\n",
      "123/123 [==============================] - 11s 90ms/step - loss: 0.1761 - accuracy: 0.9384 - val_loss: 0.2207 - val_accuracy: 0.9440\n",
      "Epoch 29/30\n",
      "123/123 [==============================] - 11s 90ms/step - loss: 0.1686 - accuracy: 0.9404 - val_loss: 0.2291 - val_accuracy: 0.9400\n",
      "Epoch 30/30\n",
      "123/123 [==============================] - 11s 92ms/step - loss: 0.1983 - accuracy: 0.9310 - val_loss: 0.1951 - val_accuracy: 0.9471\n"
     ]
    }
   ],
   "source": [
    "epochs = 30\n",
    "history = model.fit(X_train, y_train, batch_size=32, epochs=epochs, validation_data=(X_test, y_test))"
   ]
  },
  {
   "cell_type": "code",
   "execution_count": 22,
   "id": "b340e74b",
   "metadata": {},
   "outputs": [
    {
     "data": {
      "image/png": "[encoded data removed]",
      "text/plain": [
       "<Figure size 432x288 with 1 Axes>"
      ]
     },
     "metadata": {
      "needs_background": "light"
     },
     "output_type": "display_data"
    }
   ],
   "source": [
    "# accuracy \n",
    "plt.figure(0)\n",
    "plt.plot(history.history['accuracy'], label='training accuracy')\n",
    "plt.plot(history.history['val_accuracy'], label='val accuracy')\n",
    "plt.title('Accuracy')\n",
    "plt.xlabel('epochs')\n",
    "plt.ylabel('accuracy')\n",
    "plt.legend()\n",
    "plt.show()"
   ]
  },
  {
   "cell_type": "code",
   "execution_count": 23,
   "id": "bf57d4c6",
   "metadata": {},
   "outputs": [
    {
     "data": {
      "image/png": "[encoded data removed]",
      "text/plain": [
       "<Figure size 432x288 with 1 Axes>"
      ]
     },
     "metadata": {
      "needs_background": "light"
     },
     "output_type": "display_data"
    }
   ],
   "source": [
    "# Loss\n",
    "plt.plot(history.history['loss'], label='training loss')\n",
    "plt.plot(history.history['val_loss'], label='val loss')\n",
    "plt.title('Loss')\n",
    "plt.xlabel('epochs')\n",
    "plt.ylabel('loss')\n",
    "plt.legend()\n",
    "plt.show()"
   ]
  },
  {
   "cell_type": "code",
   "execution_count": 28,
   "id": "890eb79e",
   "metadata": {},
   "outputs": [],
   "source": [
    "model.save(\"./training/TSR.h5\")"
   ]
  },
  {
   "cell_type": "code",
   "execution_count": 29,
   "id": "ef4b4f79",
   "metadata": {},
   "outputs": [],
   "source": [
    "import os\n",
    "os.chdir(r'C:\\Users\\Jony\\Multiclass BRATS')\n",
    "from keras.models import load_model\n",
    "model = load_model('./training/TSR.h5')"
   ]
  },
  {
   "cell_type": "code",
   "execution_count": 30,
   "id": "430510a6",
   "metadata": {},
   "outputs": [],
   "source": [
    "# Classes of brain tumors\n",
    "classes = { 0:'glioma_tumor',\n",
    "            1:'meningioma_tumor', \n",
    "            2:'no_tumor', \n",
    "            3:'pituitary_tumor'\n",
    "          }"
   ]
  },
  {
   "cell_type": "code",
   "execution_count": 31,
   "id": "7f4e8388",
   "metadata": {},
   "outputs": [],
   "source": [
    "from PIL import Image\n",
    "import numpy as np\n",
    "import matplotlib.pyplot as plt\n",
    "def test_on_img(img):\n",
    "    data=[]\n",
    "    image = Image.open(img)\n",
    "    image = image.resize((30,30))\n",
    "    data.append(np.array(image))\n",
    "    X_test=np.array(data)\n",
    "    Y_pred = np.argmax(model.predict(X_test), axis=-1)\n",
    "    return image,Y_pred"
   ]
  },
  {
   "cell_type": "code",
   "execution_count": 35,
   "id": "9dd2f209",
   "metadata": {},
   "outputs": [
    {
     "name": "stdout",
     "output_type": "stream",
     "text": [
      "Predicted tumor is:  no_tumor\n"
     ]
    },
    {
     "data": {
      "image/png": "[encoded data removed]",
      "text/plain": [
       "<Figure size 432x288 with 1 Axes>"
      ]
     },
     "metadata": {
      "needs_background": "light"
     },
     "output_type": "display_data"
    }
   ],
   "source": [
    "plot,prediction = test_on_img(r'C:/Users/Jony/Multiclass BRATS/test/2/image(18).jpg')\n",
    "s = [str(i) for i in prediction] \n",
    "a = int(\"\".join(s)) \n",
    "print(\"Predicted tumor is: \", classes[a])\n",
    "plt.imshow(plot)\n",
    "plt.show()"
   ]
  },
  {
   "cell_type": "code",
   "execution_count": 36,
   "id": "22f87090",
   "metadata": {},
   "outputs": [
    {
     "name": "stdout",
     "output_type": "stream",
     "text": [
      "Predicted tumor is:  glioma_tumor\n"
     ]
    },
    {
     "data": {
      "image/png": "[encoded data removed]",
      "text/plain": [
       "<Figure size 432x288 with 1 Axes>"
      ]
     },
     "metadata": {
      "needs_background": "light"
     },
     "output_type": "display_data"
    }
   ],
   "source": [
    "plot,prediction = test_on_img(r'C:\\Users\\Jony\\Multiclass BRATS\\test\\0\\image(28).jpg')\n",
    "s = [str(i) for i in prediction] \n",
    "a = int(\"\".join(s)) \n",
    "print(\"Predicted tumor is: \", classes[a])\n",
    "plt.imshow(plot)\n",
    "plt.show()"
   ]
  },
  {
   "cell_type": "code",
   "execution_count": null,
   "id": "17b48ed8",
   "metadata": {},
   "outputs": [],
   "source": []
  }
 ],
 "metadata": {
  "kernelspec": {
   "display_name": "Python 3 (ipykernel)",
   "language": "python",
   "name": "python3"
  },
  "language_info": {
   "codemirror_mode": {
    "name": "ipython",
    "version": 3
   },
   "file_extension": ".py",
   "mimetype": "text/x-python",
   "name": "python",
   "nbconvert_exporter": "python",
   "pygments_lexer": "ipython3",
   "version": "3.9.7"
  }
 },
 "nbformat": 4,
 "nbformat_minor": 5
}
